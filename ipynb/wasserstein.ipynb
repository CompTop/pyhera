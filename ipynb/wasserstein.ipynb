{
 "cells": [
  {
   "cell_type": "code",
   "execution_count": 1,
   "metadata": {},
   "outputs": [],
   "source": [
    "import numpy as np\n",
    "from hera_tda.wasserstein import WassersteinDistance"
   ]
  },
  {
   "cell_type": "markdown",
   "metadata": {},
   "source": [
    "# Basic Use"
   ]
  },
  {
   "cell_type": "code",
   "execution_count": 2,
   "metadata": {},
   "outputs": [
    {
     "name": "stdout",
     "output_type": "stream",
     "text": [
      "Wasserstein-1 distance: 0.20000000000000018\n",
      "Wasserstein-2 distance: 0.14142135623730964\n",
      "Wasserstein-4 distance: 0.11892071150027221\n",
      "Wasserstein-8 distance: 0.10905077326652586\n"
     ]
    }
   ],
   "source": [
    "pX = [[1.0, 2.0], [2.0,3.0]]\n",
    "pY = [[1.1, 2.1], [2.1, 3.1]]\n",
    "for p in [1,2,4,8]:\n",
    "    d = WassersteinDistance(pX, pY, p)\n",
    "    print(\"Wasserstein-{} distance: {}\".format(p, d))"
   ]
  },
  {
   "cell_type": "markdown",
   "metadata": {},
   "source": [
    "You can set internal params using the `AuctionParams` type.  Parameters are initialized to the default values, and can be modified."
   ]
  },
  {
   "cell_type": "code",
   "execution_count": 4,
   "metadata": {},
   "outputs": [],
   "source": [
    "from hera_tda.wasserstein import AuctionParams"
   ]
  },
  {
   "cell_type": "code",
   "execution_count": 6,
   "metadata": {},
   "outputs": [
    {
     "data": {
      "text/plain": [
       "0.14142135623730964"
      ]
     },
     "execution_count": 6,
     "metadata": {},
     "output_type": "execute_result"
    }
   ],
   "source": [
    "param = AuctionParams()\n",
    "param.wasserstein_power = 2.0\n",
    "d = WassersteinDistance(pX, pY, param)\n",
    "d"
   ]
  },
  {
   "cell_type": "code",
   "execution_count": null,
   "metadata": {},
   "outputs": [],
   "source": []
  }
 ],
 "metadata": {
  "kernelspec": {
   "display_name": "Python [conda env:bats]",
   "language": "python",
   "name": "conda-env-bats-py"
  },
  "language_info": {
   "codemirror_mode": {
    "name": "ipython",
    "version": 3
   },
   "file_extension": ".py",
   "mimetype": "text/x-python",
   "name": "python",
   "nbconvert_exporter": "python",
   "pygments_lexer": "ipython3",
   "version": "3.7.10"
  }
 },
 "nbformat": 4,
 "nbformat_minor": 4
}
