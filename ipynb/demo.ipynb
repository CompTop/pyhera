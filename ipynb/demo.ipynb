{
 "cells": [
  {
   "cell_type": "code",
   "execution_count": 1,
   "metadata": {},
   "outputs": [],
   "source": [
    "import numpy as np\n",
    "import matplotlib.pyplot as plt\n",
    "import time\n",
    "import bats"
   ]
  },
  {
   "cell_type": "code",
   "execution_count": 2,
   "metadata": {},
   "outputs": [],
   "source": [
    "import hera_tda as hera\n",
    "import hera_tda.bottleneck"
   ]
  },
  {
   "cell_type": "code",
   "execution_count": 3,
   "metadata": {},
   "outputs": [
    {
     "data": {
      "text/plain": [
       "<matplotlib.collections.PathCollection at 0x7f3b29943bd0>"
      ]
     },
     "execution_count": 3,
     "metadata": {},
     "output_type": "execute_result"
    },
    {
     "data": {
      "image/png": "[encoded data removed]",
      "text/plain": [
       "<Figure size 432x288 with 1 Axes>"
      ]
     },
     "metadata": {
      "needs_background": "light"
     },
     "output_type": "display_data"
    }
   ],
   "source": [
    "n = 100\n",
    "p = 4\n",
    "sigma = 0.05\n",
    "thetas = np.arange(0, n) * 2 * np.pi / n\n",
    "rs = np.ones(n)\n",
    "X = np.hstack(((rs * np.cos(thetas)).reshape(-1,1), (rs * np.sin(thetas)).reshape(-1,1), sigma*np.random.randn(n, p-2)))\n",
    "plt.scatter(X[:,0], X[:,1])\n",
    "\n",
    "Y = np.hstack(((rs * np.cos(thetas)).reshape(-1,1), (rs * np.sin(thetas)).reshape(-1,1), sigma*np.random.randn(n, p-2)))\n",
    "plt.scatter(Y[:,0], Y[:,1])"
   ]
  },
  {
   "cell_type": "code",
   "execution_count": 4,
   "metadata": {},
   "outputs": [],
   "source": [
    "FX = bats.LightRipsFiltration(bats.DataSet(bats.Matrix(X)), bats.Euclidean(), np.inf, 2)\n",
    "FY = bats.LightRipsFiltration(bats.DataSet(bats.Matrix(Y)), bats.Euclidean(), np.inf, 2)"
   ]
  },
  {
   "cell_type": "code",
   "execution_count": 5,
   "metadata": {},
   "outputs": [],
   "source": [
    "RX = bats.reduce(FX, bats.F2(), bats.standard_reduction_flag(), bats.clearing_flag())\n",
    "RY = bats.reduce(FY, bats.F2(), bats.standard_reduction_flag(), bats.clearing_flag())"
   ]
  },
  {
   "cell_type": "code",
   "execution_count": 6,
   "metadata": {},
   "outputs": [],
   "source": [
    "dim = 0\n",
    "pX = RX.persistence_pairs(dim)\n",
    "pY = RY.persistence_pairs(dim)"
   ]
  },
  {
   "cell_type": "markdown",
   "metadata": {},
   "source": [
    "returns the distance as well as the indices matched in the longest edge"
   ]
  },
  {
   "cell_type": "code",
   "execution_count": 26,
   "metadata": {},
   "outputs": [
    {
     "name": "stdout",
     "output_type": "stream",
     "text": [
      "exact:  0.02781778998905793 sec.\n",
      "\tdist =  0.012765647103995276\n",
      "approx:  0.012157742006820627 sec.\n",
      "\tdist =  0.012774122542758354\n"
     ]
    }
   ],
   "source": [
    "t0 = time.monotonic()\n",
    "d, inds = hera.bottleneck.BottleneckDistance(pX, pY)\n",
    "t1 = time.monotonic()\n",
    "print(\"exact: \", t1 - t0, \"sec.\")\n",
    "print(\"\\tdist = \", d)\n",
    "\n",
    "t0 = time.monotonic()\n",
    "d, inds = hera.bottleneck.BottleneckDistanceApprox(pX, pY,0.001)\n",
    "t1 = time.monotonic()\n",
    "print(\"approx: \", t1 - t0, \"sec.\")\n",
    "print(\"\\tdist = \", d)"
   ]
  },
  {
   "cell_type": "markdown",
   "metadata": {},
   "source": [
    "Comparsion vs. persim"
   ]
  },
  {
   "cell_type": "code",
   "execution_count": 27,
   "metadata": {},
   "outputs": [],
   "source": [
    "import persim"
   ]
  },
  {
   "cell_type": "code",
   "execution_count": 35,
   "metadata": {},
   "outputs": [
    {
     "name": "stdout",
     "output_type": "stream",
     "text": [
      "persim:  0.32068716500361916 sec.\n",
      "\tdist =  0.012765647103995276\n"
     ]
    }
   ],
   "source": [
    "p1 = hera.bottleneck.Pairs(pX)\n",
    "p2 = hera.bottleneck.Pairs(pY)\n",
    "t0 = time.monotonic()\n",
    "d, match = persim.bottleneck(p1, p2, matching=True)\n",
    "t1 = time.monotonic()\n",
    "print(\"persim: \", t1 - t0, \"sec.\")\n",
    "print(\"\\tdist = \", d)"
   ]
  },
  {
   "cell_type": "code",
   "execution_count": 30,
   "metadata": {},
   "outputs": [],
   "source": [
    "a = [bats.PersistencePair(0,0,1,0.0,1.0), bats.PersistencePair(0,0,1,0.0,1.0)]"
   ]
  },
  {
   "cell_type": "code",
   "execution_count": 31,
   "metadata": {},
   "outputs": [
    {
     "data": {
      "text/plain": [
       "[(0.0, 1.0), (0.0, 1.0)]"
      ]
     },
     "execution_count": 31,
     "metadata": {},
     "output_type": "execute_result"
    }
   ],
   "source": [
    "hera.bottleneck.Pairs(a)"
   ]
  },
  {
   "cell_type": "code",
   "execution_count": 32,
   "metadata": {},
   "outputs": [
    {
     "data": {
      "text/plain": [
       "(0.0, (-1, -1))"
      ]
     },
     "execution_count": 32,
     "metadata": {},
     "output_type": "execute_result"
    }
   ],
   "source": [
    "hera.bottleneck.BottleneckDistance(a,a)"
   ]
  },
  {
   "cell_type": "code",
   "execution_count": null,
   "metadata": {},
   "outputs": [],
   "source": []
  }
 ],
 "metadata": {
  "kernelspec": {
   "display_name": "Python [conda env:bats]",
   "language": "python",
   "name": "conda-env-bats-py"
  },
  "language_info": {
   "codemirror_mode": {
    "name": "ipython",
    "version": 3
   },
   "file_extension": ".py",
   "mimetype": "text/x-python",
   "name": "python",
   "nbconvert_exporter": "python",
   "pygments_lexer": "ipython3",
   "version": "3.7.10"
  }
 },
 "nbformat": 4,
 "nbformat_minor": 4
}
